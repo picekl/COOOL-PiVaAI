{
 "cells": [
  {
   "cell_type": "code",
   "execution_count": 1,
   "id": "4484dfea-9ac4-4558-968f-09cf3e030633",
   "metadata": {},
   "outputs": [],
   "source": [
    "import pickle\n",
    "import cv2\n",
    "import os\n",
    "import torch\n",
    "import pandas as pd\n",
    "import numpy as np\n",
    "from tqdm import tqdm\n",
    "import ruptures as rpt  # our package\n",
    "from PIL import Image\n",
    "\n",
    "def determine_drive_state_changed(timeseries: list, n_bkps: int = 3) -> list:\n",
    "    timeseries = np.array(timeseries)\n",
    "    timeseries = timeseries / np.linalg.norm(timeseries)\n",
    "    algo = rpt.KernelCPD(kernel=\"rbf\").fit(timeseries)\n",
    "\n",
    "    # Detect breakpoints\n",
    "    breakpoints = algo.predict(n_bkps=n_bkps)\n",
    "    driver_state_changed = [any(i >= bp for bp in breakpoints) for i in range(len(timeseries))]\n",
    "    assert len(driver_state_changed) == len(timeseries)\n",
    "    return driver_state_changed\n"
   ]
  },
  {
   "cell_type": "markdown",
   "id": "2395d9e7-7815-4197-8c3e-932c0d93b1da",
   "metadata": {},
   "source": [
    "## Calculate driver change"
   ]
  },
  {
   "cell_type": "code",
   "execution_count": 2,
   "id": "dca63ab2-5043-40f9-9523-8622985c1f58",
   "metadata": {
    "scrolled": true
   },
   "outputs": [],
   "source": [
    "# Load optical flow data\n",
    "data = torch.load('resources/optical-flow/optical_flow.pkl', weights_only=False)\n",
    "records = []\n",
    "for video_name, frames in data.items():\n",
    "    if video_name == 'video_00013.mp4':\n",
    "        video_name = 'video_0013.mp4'\n",
    "    for frame_data in frames:\n",
    "        records.append({\n",
    "            \"filename\": video_name,\n",
    "            \"frame\": frame_data[\"frame\"],\n",
    "            \"score\": frame_data[\"score\"]\n",
    "        })\n",
    "df_of = pd.DataFrame(records)\n",
    "df_of['video'] = df_of['filename'].apply(lambda x: x.split('.')[0])\n",
    "\n",
    "\n",
    "# Add driver change\n",
    "groups = []\n",
    "for video, group in df_of.groupby('video'):\n",
    "\n",
    "    ts = group['score'].bfill().reset_index(drop=True)\n",
    "    group['change_bkp4'] = determine_drive_state_changed(ts, n_bkps=4)\n",
    "\n",
    "    groups.append(group)\n",
    "df_of = pd.concat(groups).reset_index(drop=True)"
   ]
  },
  {
   "cell_type": "markdown",
   "id": "a41d0136-f305-49bd-bdf9-6c42c4fa0c73",
   "metadata": {},
   "source": [
    "## Create submission"
   ]
  },
  {
   "cell_type": "code",
   "execution_count": 3,
   "id": "06fa266c-9cd1-468a-bad5-f4c40ccdef48",
   "metadata": {},
   "outputs": [
    {
     "name": "stderr",
     "output_type": "stream",
     "text": [
      "/tmp/ipykernel_65922/2425918050.py:21: FutureWarning: Not prepending group keys to the result index of transform-like apply. In the future, the group keys will be included in the index, regardless of whether the applied function returns a like-indexed object.\n",
      "To preserve the previous behavior, use\n",
      "\n",
      "\t>>> .groupby(..., group_keys=False)\n",
      "\n",
      "To adopt the future behavior and silence this warning, use \n",
      "\n",
      "\t>>> .groupby(..., group_keys=True)\n",
      "  df = df.groupby('video').apply(lambda x: x.ffill())\n"
     ]
    }
   ],
   "source": [
    "# Load submission structure\n",
    "df = pd.read_csv('./submissions/results_driverstate_alltracks_bboxsizes.csv')\n",
    "df['frame'] = df['ID'].apply(lambda x: int(x.split('_')[-1]) )\n",
    "df['video'] = df['ID'].apply(lambda x: '_'.join(x.split('_')[:2]) )\n",
    "\n",
    "\n",
    "with open('./resources/annotations_public.pkl', 'rb') as f:\n",
    "    anns = pickle.load(f)\n",
    "\n",
    "data = []\n",
    "for video, video_data in anns.items():\n",
    "    for frame, frame_data in video_data.items():\n",
    "        data.append({\n",
    "            'ID': f\"{video}_{frame}\",\n",
    "            'video': video,\n",
    "            'frame': frame,\n",
    "        })\n",
    "\n",
    "df = pd.DataFrame(data)\n",
    "df = pd.merge(left=df, right=df_of, how='left', on=['video', 'frame'])\n",
    "df = df.groupby('video').apply(lambda x: x.ffill())\n",
    "df = df.reset_index(drop=True)\n",
    "\n",
    "df_bkp4 = df[['ID', 'change_bkp4']].reset_index(drop=True)\n",
    "df_bkp4 = df_bkp4.rename({'change_bkp4': 'Driver_State_Changed'}, axis=1)\n",
    "df_bkp4.to_csv('./submissions/results_driverstate_alltracks_opticalflow.csv')"
   ]
  },
  {
   "cell_type": "code",
   "execution_count": null,
   "id": "7263dd44-84ba-4c15-a6df-72cfb895c1aa",
   "metadata": {},
   "outputs": [],
   "source": []
  }
 ],
 "metadata": {
  "kernelspec": {
   "display_name": "Python 3 (ipykernel)",
   "language": "python",
   "name": "python3"
  },
  "language_info": {
   "codemirror_mode": {
    "name": "ipython",
    "version": 3
   },
   "file_extension": ".py",
   "mimetype": "text/x-python",
   "name": "python",
   "nbconvert_exporter": "python",
   "pygments_lexer": "ipython3",
   "version": "3.8.10"
  }
 },
 "nbformat": 4,
 "nbformat_minor": 5
}
