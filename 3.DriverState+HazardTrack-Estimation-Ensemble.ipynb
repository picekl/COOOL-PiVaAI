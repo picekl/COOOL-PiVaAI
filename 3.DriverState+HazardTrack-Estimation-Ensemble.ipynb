{
 "cells": [
  {
   "cell_type": "code",
   "execution_count": 1,
   "id": "4484dfea-9ac4-4558-968f-09cf3e030633",
   "metadata": {},
   "outputs": [],
   "source": [
    "import pandas as pd\n",
    "import numpy as np\n",
    "from collections import defaultdict\n",
    "import ruptures as rpt  # our package\n",
    "import pickle\n",
    "\n",
    "from utils.driver_state import determine_drive_state_changed"
   ]
  },
  {
   "cell_type": "markdown",
   "id": "46d71abc-7ad7-4be6-bf8b-287e48589abf",
   "metadata": {},
   "source": [
    "## Driver change ensemble"
   ]
  },
  {
   "cell_type": "code",
   "execution_count": 9,
   "id": "681bb501-99d9-4153-bde7-ca46bbbbe3fb",
   "metadata": {},
   "outputs": [
    {
     "name": "stderr",
     "output_type": "stream",
     "text": [
      "/tmp/ipykernel_60008/422262031.py:29: FutureWarning: In a future version of pandas, a length 1 tuple will be returned when iterating over a groupby with a grouper equal to a list of length 1. Don't supply a list with a single grouper to avoid this warning.\n",
      "  for i, group in df1.groupby(['video']):\n",
      "/tmp/ipykernel_60008/422262031.py:33: FutureWarning: In a future version of pandas, a length 1 tuple will be returned when iterating over a groupby with a grouper equal to a list of length 1. Don't supply a list with a single grouper to avoid this warning.\n",
      "  for i, group in df2.groupby(['video']):\n"
     ]
    }
   ],
   "source": [
    "# Create template dataframe for submission\n",
    "with open(\"resources/annotations_public.pkl\", \"rb\") as file:\n",
    "    annotations = pickle.load(file)\n",
    "\n",
    "submission_data = []\n",
    "for video_name, video_annotations in annotations.items():\n",
    "    for frame_number, frame_annotations in video_annotations.items():\n",
    "        submission_data.append(\n",
    "            {\n",
    "                \"ID\": f\"{video_name}_{frame_number}\",\n",
    "                \"video\": video_name,\n",
    "                \"frame\": frame_number,\n",
    "            }\n",
    "        )\n",
    "\n",
    "submission_df = pd.DataFrame(submission_data)\n",
    "\n",
    "\n",
    "# Load predictions\n",
    "driver_state_df = pd.read_csv(\"./submissions/results_driverstate_alltracks_bboxsizes.csv\")\n",
    "driver_state_df[\"frame\"] = driver_state_df[\"ID\"].apply(lambda x: int(x.split(\"_\")[-1]))\n",
    "driver_state_df[\"video\"] = driver_state_df[\"ID\"].apply(lambda x: \"_\".join(x.split(\"_\")[:2]))\n",
    "\n",
    "optical_flow_df = pd.read_csv(\"./submissions/results_driverstate_alltracks_opticalflow.csv\")\n",
    "optical_flow_df = optical_flow_df[[\"ID\", \"Driver_State_Changed\"]]\n",
    "optical_flow_df[\"frame\"] = optical_flow_df[\"ID\"].apply(lambda x: int(x.split(\"_\")[-1]))\n",
    "optical_flow_df[\"video\"] = optical_flow_df[\"ID\"].apply(lambda x: \"_\".join(x.split(\"_\")[:2]))\n",
    "\n",
    "\n",
    "# Create dict with index of first True value in Driver_State_Changed\n",
    "driver_state_changes = defaultdict(list)\n",
    "for video_name, video_group in driver_state_df.groupby([\"video\"]):\n",
    "    state_changes = video_group.reset_index(drop=True)[\"Driver_State_Changed\"]\n",
    "    driver_state_changes[video_name].append(state_changes.idxmax())\n",
    "\n",
    "for video_name, video_group in optical_flow_df.groupby([\"video\"]):\n",
    "    state_changes = video_group.reset_index(drop=True)[\"Driver_State_Changed\"]\n",
    "    driver_state_changes[video_name].append(state_changes.idxmax())\n",
    "\n",
    "\n",
    "# Calculate the mean index for True values\n",
    "change_index = pd.DataFrame(driver_state_changes).T.mean(1).round().astype(int)\n",
    "change_index_df = change_index.reset_index()\n",
    "change_index_df.columns = [\"video\", \"frame\"]\n",
    "change_index_df[\"change\"] = True\n",
    "\n",
    "# Merge the results with the main dataframe\n",
    "final_df = pd.merge(\n",
    "    submission_df[[\"ID\", \"video\", \"frame\"]], change_index_df, how=\"left\", on=[\"video\", \"frame\"]\n",
    ")\n",
    "final_df[\"change\"] = final_df[\"change\"].fillna(False)\n",
    "final_df[\"Driver_State_Changed\"] = final_df.groupby(\"video\")[\"change\"].cumsum().astype(bool)\n",
    "\n",
    "# Output final result to CSV\n",
    "final_df = final_df[[\"ID\", \"Driver_State_Changed\"]]\n",
    "final_df.to_csv(\"./submissions/results_driverchange_ensemble.csv\")"
   ]
  },
  {
   "cell_type": "code",
   "execution_count": null,
   "id": "8b8eb821-6c15-499d-82b1-30be2f48f0d1",
   "metadata": {},
   "outputs": [],
   "source": []
  }
 ],
 "metadata": {
  "kernelspec": {
   "display_name": "Python 3 (ipykernel)",
   "language": "python",
   "name": "python3"
  },
  "language_info": {
   "codemirror_mode": {
    "name": "ipython",
    "version": 3
   },
   "file_extension": ".py",
   "mimetype": "text/x-python",
   "name": "python",
   "nbconvert_exporter": "python",
   "pygments_lexer": "ipython3",
   "version": "3.8.10"
  }
 },
 "nbformat": 4,
 "nbformat_minor": 5
}
