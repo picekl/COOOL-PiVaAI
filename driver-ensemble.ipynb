{
 "cells": [
  {
   "cell_type": "code",
   "execution_count": null,
   "id": "4484dfea-9ac4-4558-968f-09cf3e030633",
   "metadata": {},
   "outputs": [],
   "source": [
    "import pandas as pd\n",
    "import numpy as np\n",
    "from collections import defaultdict\n",
    "import ruptures as rpt  # our package\n",
    "import pickle\n",
    "\n",
    "\n",
    "def determine_drive_state_changed(timeseries: list, n_bkps: int = 3) -> list:\n",
    "    timeseries = np.array(timeseries)\n",
    "    timeseries = timeseries / np.linalg.norm(timeseries)\n",
    "    algo = rpt.KernelCPD(kernel=\"rbf\").fit(timeseries)\n",
    "\n",
    "    # Detect breakpoints\n",
    "    breakpoints = algo.predict(n_bkps=n_bkps)\n",
    "    driver_state_changed = [any(i >= bp for bp in breakpoints) for i in range(len(timeseries))]\n",
    "    assert len(driver_state_changed) == len(timeseries)\n",
    "    return driver_state_changed\n"
   ]
  },
  {
   "cell_type": "markdown",
   "id": "46d71abc-7ad7-4be6-bf8b-287e48589abf",
   "metadata": {},
   "source": [
    "## Driver change ensemble"
   ]
  },
  {
   "cell_type": "code",
   "execution_count": null,
   "id": "681bb501-99d9-4153-bde7-ca46bbbbe3fb",
   "metadata": {},
   "outputs": [],
   "source": [
    "# Create template dataframe for submission\n",
    "with open('../COOOL_benchmark/annotations_public.pkl', 'rb') as f:\n",
    "    anns = pickle.load(f)\n",
    "data = []\n",
    "for video, video_data in anns.items():\n",
    "    for frame, frame_data in video_data.items():\n",
    "        data.append({\n",
    "            'ID': f\"{video}_{frame}\",\n",
    "            'video': video,\n",
    "            'frame': frame,\n",
    "        })\n",
    "df = pd.DataFrame(data)\n",
    "\n",
    "\n",
    "# Load predictions\n",
    "df1 = pd.read_csv(\"../submissions/results_13122024_driver_of-bkp4.csv\", index_col=0)\n",
    "df1['frame'] = df1['ID'].apply(lambda x: int(x.split('_')[-1]) )\n",
    "df1['video'] = df1['ID'].apply(lambda x: '_'.join(x.split('_')[:2]) )\n",
    "\n",
    "df2 = pd.read_csv(\"../submissions/results_09122024_bboxsizes.csv\")\n",
    "df2 = df2[['ID', 'Driver_State_Changed']]\n",
    "df2['frame'] = df2['ID'].apply(lambda x: int(x.split('_')[-1]) )\n",
    "df2['video'] = df2['ID'].apply(lambda x: '_'.join(x.split('_')[:2]) )\n",
    "\n",
    "\n",
    "\n",
    "# Create dict with index of first True value in Driver_State_Changed\n",
    "data = defaultdict(list)\n",
    "for i, group in df1.groupby(['video']):\n",
    "    vals = group.reset_index(drop=True)['Driver_State_Changed']\n",
    "    data[i].append(vals.idxmax())\n",
    "\n",
    "for i, group in df2.groupby(['video']):\n",
    "    vals = group.reset_index(drop=True)['Driver_State_Changed']\n",
    "    data[i].append(vals.idxmax())\n",
    "\n",
    "\n",
    "\n",
    "# Mean is the new True\n",
    "idx = pd.DataFrame(data).T.mean(1).round().astype(int)\n",
    "df_idx = idx.reset_index()\n",
    "df_idx.columns = ['video', 'frame']\n",
    "df_idx['change'] = True\n",
    "\n",
    "df_new = pd.merge(df[['ID', 'video', 'frame']], df_idx, how='left', on=['video', 'frame'])\n",
    "df_new['change'] = df_new['change'].fillna(False)\n",
    "df_new['Driver_State_Changed'] = df_new.groupby('video')['change'].cumsum().astype(bool)\n",
    "\n",
    "df_new = df_new[['ID', 'Driver_State_Changed']]\n",
    "df_new.to_csv('../submissions/results_13122024_driver_of-bboxsize-ensemble.csv')"
   ]
  },
  {
   "cell_type": "code",
   "execution_count": null,
   "id": "461e1eb2-f722-4541-8ea7-12da9c3f6a3d",
   "metadata": {},
   "outputs": [],
   "source": []
  }
 ],
 "metadata": {
  "kernelspec": {
   "display_name": "venv-llms",
   "language": "python",
   "name": "venv-llms"
  },
  "language_info": {
   "codemirror_mode": {
    "name": "ipython",
    "version": 3
   },
   "file_extension": ".py",
   "mimetype": "text/x-python",
   "name": "python",
   "nbconvert_exporter": "python",
   "pygments_lexer": "ipython3",
   "version": "3.11.5"
  }
 },
 "nbformat": 4,
 "nbformat_minor": 5
}
