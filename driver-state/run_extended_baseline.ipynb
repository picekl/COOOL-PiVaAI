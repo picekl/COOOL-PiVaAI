{
 "cells": [
  {
   "metadata": {},
   "cell_type": "code",
   "source": [
    "import pandas as pd\n",
    "import os\n",
    "import os.path as osp\n",
    "\n",
    "from tqdm import tqdm\n",
    "from ioutils import load_pickle\n",
    "from process_video import process_video, video_results_to_submission_format\n",
    "\n",
    "%load_ext autoreload\n",
    "%autoreload 2"
   ],
   "id": "6b60a48dea88da52",
   "outputs": [],
   "execution_count": null
  },
  {
   "metadata": {},
   "cell_type": "code",
   "source": [
    "annotations_path = \"/home/marek/Work/COOOL_benchmark/coool/data/annotations_public.pkl\"\n",
    "annotations = load_pickle(annotations_path)\n",
    "video_root = \"/home/marek/datasets/coool-benchmark\"\n",
    "\n",
    "for video_name in annotations.keys():#Check that videos exist\n",
    "    assert osp.exists(os.path.join(video_root, f\"{video_name}.mp4\"))\n"
   ],
   "id": "57bc08b1c1e4b9b8",
   "outputs": [],
   "execution_count": null
  },
  {
   "metadata": {},
   "cell_type": "code",
   "source": [
    "submission_results = {}\n",
    "\n",
    "video_names = sorted(list(annotations.keys()))\n",
    "for video_name in tqdm(video_names, total=len(video_names)):\n",
    "    video_path = osp.join(video_root, f\"{video_name}.mp4\")\n",
    "    video_results = process_video(video_path, annotations, run_tracks=True, run_captions=True)\n",
    "    _submission_results = video_results_to_submission_format(video_results)\n",
    "    submission_results.update(_submission_results)\n",
    "\n",
    "\n",
    "df = pd.DataFrame.from_dict(submission_results, orient=\"index\")\n",
    "df.index.name = \"ID\"\n"
   ],
   "id": "a0318f902674fd57",
   "outputs": [],
   "execution_count": null
  },
  {
   "metadata": {},
   "cell_type": "code",
   "source": [
    "remove_cols = [\"Hazard_Track_ \", \"Hazard_Name_ \"]\n",
    "df.drop(remove_cols, axis=\"columns\", inplace=True, errors=\"ignore\")\n",
    "df"
   ],
   "id": "4a07ff795b1680ce",
   "outputs": [],
   "execution_count": null
  },
  {
   "metadata": {},
   "cell_type": "code",
   "source": "df.to_csv(\"../submissions/results_20122024_bboxsizes_driver_alltracks_allcaps.csv\", sep=\",\")\n",
   "id": "1c804af82a4bab0b",
   "outputs": [],
   "execution_count": null
  },
  {
   "metadata": {},
   "cell_type": "code",
   "source": "",
   "id": "d9b42d85b4aeda5d",
   "outputs": [],
   "execution_count": null
  }
 ],
 "metadata": {
  "kernelspec": {
   "name": "python3",
   "language": "python",
   "display_name": "Python 3 (ipykernel)"
  }
 },
 "nbformat": 5,
 "nbformat_minor": 9
}
