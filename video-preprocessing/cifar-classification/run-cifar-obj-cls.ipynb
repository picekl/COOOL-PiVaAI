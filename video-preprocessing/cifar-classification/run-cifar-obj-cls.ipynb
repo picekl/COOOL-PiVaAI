{
 "cells": [
  {
   "cell_type": "markdown",
   "id": "f6c82306-aeeb-470a-bfe9-4671ebc1316f",
   "metadata": {},
   "source": [
    "## Classify objects using CIFAR pre-trained classifier -- ❕Runs around 30minutes❕"
   ]
  },
  {
   "cell_type": "code",
   "execution_count": null,
   "id": "9276da82-b8f7-43cc-a02c-0b44fcaa6a51",
   "metadata": {
    "scrolled": true
   },
   "outputs": [],
   "source": [
    "import torch\n",
    "import numpy as np\n",
    "from tqdm import tqdm\n",
    "import os\n",
    "from PIL import Image\n",
    "from transformers import ViTForImageClassification, ViTImageProcessor\n",
    "import cv2\n",
    "import pickle\n",
    "\n",
    "from utils import cifar100_classes, crop_with_context, get_img"
   ]
  },
  {
   "cell_type": "markdown",
   "id": "efe449b1-2d01-48f9-ba1d-b6a56115bf67",
   "metadata": {},
   "source": [
    "### Classify each object using vit_base-224"
   ]
  },
  {
   "cell_type": "code",
   "execution_count": null,
   "id": "033bb332-2fb3-4d6a-ad14-fc477654affe",
   "metadata": {},
   "outputs": [
    {
     "name": "stderr",
     "output_type": "stream",
     "text": [
      " 21%|██▏       | 43/201 [06:08<16:59,  6.45s/it]  "
     ]
    }
   ],
   "source": [
    "extractor = ViTImageProcessor.from_pretrained(\"google/vit-base-patch16-224-in21k\")\n",
    "model = ViTForImageClassification.from_pretrained(\n",
    "    \"edumunozsala/vit_base-224-in21k-ft-cifar100\"\n",
    ")\n",
    "model.to(\"cuda:1\")\n",
    "\n",
    "# Open annotations\n",
    "with open(\"../../resources/annotations_public.pkl\", \"rb\") as f:\n",
    "    anns = pickle.load(f)\n",
    "\n",
    "\n",
    "def process(image, objects):\n",
    "    for obj in objects:\n",
    "        img_cropped = crop_with_context(image, obj[\"bbox\"], 0.2)\n",
    "        inputs = extractor(images=img_cropped, return_tensors=\"pt\").to(\"cuda:1\")\n",
    "\n",
    "        with torch.no_grad():\n",
    "            outputs = model(**inputs)\n",
    "\n",
    "        probabilities = torch.nn.functional.softmax(outputs.logits.cpu(), dim=-1)\n",
    "        prob, idx = probabilities.topk(10)\n",
    "        top10_class = cifar100_classes[idx[0]]\n",
    "        top10_probs = prob[0].numpy()\n",
    "\n",
    "        obj[\"top10_probs\"] = top10_class\n",
    "        obj[\"top10_class\"] = top10_probs\n",
    "    return objects\n",
    "\n",
    "\n",
    "folder_path = \"../../dataset/coool-benchmark/\"\n",
    "\n",
    "results = {}\n",
    "for filename in tqdm(os.listdir(folder_path)):\n",
    "    if filename.endswith(\".mp4\"):\n",
    "        video = filename.split(\".\")[0]\n",
    "        cap = cv2.VideoCapture(os.path.join(folder_path, filename))\n",
    "        original_fps = cap.get(cv2.CAP_PROP_FPS)\n",
    "\n",
    "        # Initialize storage for this video\n",
    "        video_results = {}\n",
    "\n",
    "        frame_count = 0\n",
    "        while cap.isOpened():\n",
    "            ret, frame = cap.read()\n",
    "            if not ret:\n",
    "                break\n",
    "\n",
    "            # Process every Nth frame to match the target FPS\n",
    "            image = cv2.cvtColor(frame, cv2.COLOR_BGR2RGB)\n",
    "            objects = anns[video][frame_count][\"challenge_object\"]\n",
    "            video_results[frame_count] = process(image, objects)\n",
    "            frame_count += 1\n",
    "\n",
    "        cap.release()\n",
    "        results[video] = video_results\n",
    "\n",
    "torch.save(results, f\"../../resources/cifar-classification/all-dense-test.pkl\")"
   ]
  }
 ],
 "metadata": {
  "kernelspec": {
   "display_name": "Python 3 (ipykernel)",
   "language": "python",
   "name": "python3"
  },
  "language_info": {
   "codemirror_mode": {
    "name": "ipython",
    "version": 3
   },
   "file_extension": ".py",
   "mimetype": "text/x-python",
   "name": "python",
   "nbconvert_exporter": "python",
   "pygments_lexer": "ipython3",
   "version": "3.8.10"
  }
 },
 "nbformat": 4,
 "nbformat_minor": 5
}
