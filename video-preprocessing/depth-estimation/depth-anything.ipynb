{
 "cells": [
  {
   "cell_type": "markdown",
   "id": "eac710a81e1fe5df",
   "metadata": {},
   "source": [
    "# Depth estimation with Depth-Anything-V2-Large\n",
    "\n",
    "Depth Anything V2 is trained from 595K synthetic labeled images and 62M+ real unlabeled images, providing the most capable monocular depth estimation (MDE) model with the following features:\n",
    "- more fine-grained details than Depth Anything V1\n",
    "- more robust than Depth Anything V1 and SD-based models (e.g., Marigold, Geowizard)\n",
    "- more efficient (10x faster) and more lightweight than SD-based models\n",
    "- impressive fine-tuned performance with our pre-trained models\n",
    "\n",
    "**For more please refer to [the official instructions](https://huggingface.co/depth-anything/Depth-Anything-V2-Large).**"
   ]
  },
  {
   "cell_type": "markdown",
   "id": "6763d8e4-b390-44eb-a3e4-9057f6c36e7b",
   "metadata": {},
   "source": [
    "## Installation"
   ]
  },
  {
   "cell_type": "code",
   "execution_count": null,
   "id": "d2db2304-2617-4bd8-8509-48f412453a9d",
   "metadata": {},
   "outputs": [],
   "source": [
    "!git clone https://huggingface.co/spaces/depth-anything/Depth-Anything-V2\n",
    "!cp -r Depth-Anything-V2/depth_anything_v2 .\n",
    "!pip install -r Depth-Anything-V2/requirements.txt"
   ]
  },
  {
   "cell_type": "markdown",
   "id": "c6dc616f-5e08-4bdf-86ad-ec1d9cd2c704",
   "metadata": {
    "tags": []
   },
   "source": [
    "## Imports"
   ]
  },
  {
   "cell_type": "code",
   "execution_count": null,
   "id": "initial_id",
   "metadata": {
    "tags": []
   },
   "outputs": [],
   "source": [
    "import cv2\n",
    "import os\n",
    "import os.path as osp\n",
    "import torch\n",
    "from tqdm import tqdm\n",
    "import pickle\n",
    "\n",
    "from depth_anything_v2.dpt import DepthAnythingV2\n",
    "\n",
    "%load_ext autoreload\n",
    "%autoreload 2"
   ]
  },
  {
   "cell_type": "markdown",
   "id": "fbe1c887-28db-47fa-8740-8366b6bd8f24",
   "metadata": {},
   "source": [
    "## Load Model\n",
    "\n",
    "Download the [model](https://huggingface.co/depth-anything/Depth-Anything-V2-Large/resolve/main/depth_anything_v2_vitl.pth?download=true) first and put it under the `checkpoints` directory."
   ]
  },
  {
   "cell_type": "code",
   "execution_count": null,
   "id": "1097dd2c-c2d6-4d0c-960f-9d3da26ee108",
   "metadata": {},
   "outputs": [],
   "source": [
    "!mkdir checkpoints\n",
    "!wget https://huggingface.co/depth-anything/Depth-Anything-V2-Large/resolve/main/depth_anything_v2_vitl.pth -P ./checkpoints/"
   ]
  },
  {
   "cell_type": "code",
   "execution_count": null,
   "id": "54a598f462765e1c",
   "metadata": {
    "tags": []
   },
   "outputs": [],
   "source": [
    "device = torch.device(\"cuda\" if torch.cuda.is_available() else \"cpu\")\n",
    "\n",
    "model = DepthAnythingV2(\n",
    "    encoder=\"vitl\", features=256, out_channels=[256, 512, 1024, 1024]\n",
    ")\n",
    "model.load_state_dict(\n",
    "    torch.load(\"checkpoints/depth_anything_v2_vitl.pth\", map_location=\"cpu\")\n",
    ")\n",
    "model.eval().to(device)\n",
    "\n",
    "print(\"Model loaded!\")"
   ]
  },
  {
   "cell_type": "code",
   "execution_count": null,
   "id": "c7dfdc4ca728b142",
   "metadata": {},
   "outputs": [],
   "source": [
    "ANNOTATIONS_PATH = \"../../resources/annotations_public.pkl\"\n",
    "VIDEOS_ROOT = \"../../dataset/coool-benchmark\"  # <---- UPDATE THIS ONE\n",
    "RESULTS_FOLDER = \"../../resources/depth-estimation\"\n",
    "\n",
    "if not osp.exists(RESULTS_FOLDER):\n",
    "    os.makedirs(RESULTS_FOLDER)"
   ]
  },
  {
   "cell_type": "code",
   "execution_count": null,
   "id": "fde6ccde7b488655",
   "metadata": {},
   "outputs": [],
   "source": [
    "def load_pickle(file_path: str) -> dict:\n",
    "    with open(file_path, \"rb\") as f:\n",
    "        return pickle.load(f)"
   ]
  },
  {
   "cell_type": "code",
   "execution_count": null,
   "id": "fbab95703685b793",
   "metadata": {},
   "outputs": [],
   "source": [
    "annotations = load_pickle(ANNOTATIONS_PATH)\n",
    "\n",
    "# Check if video folder exists\n",
    "if not osp.exists(VIDEOS_ROOT):\n",
    "    raise FileNotFoundError(f\"Videos folder does not exist: {VIDEOS_ROOT}\")\n",
    "\n",
    "video_names = sorted(list(annotations.keys()))\n",
    "if not video_names:\n",
    "    raise ValueError(\"No videos found in the annotations.\")\n",
    "\n",
    "# Process each video\n",
    "for video_name in tqdm(video_names, total=len(video_names)):\n",
    "    video_path = osp.join(VIDEOS_ROOT, f\"{video_name}.mp4\")\n",
    "\n",
    "    if not osp.exists(video_path):\n",
    "        print(f\"Warning: Video file not found: {video_path}. Skipping.\")\n",
    "        continue\n",
    "\n",
    "    video_data = []\n",
    "    video_stream = cv2.VideoCapture(video_path)\n",
    "    fps = video_stream.get(cv2.CAP_PROP_FPS)\n",
    "\n",
    "    if not video_stream.isOpened():\n",
    "        print(f\"Error: Video {video_name} could not be opened. Skipping.\")\n",
    "        continue\n",
    "\n",
    "    frame = 0\n",
    "    while video_stream.isOpened():\n",
    "        ret, frame_image = video_stream.read()\n",
    "        if not ret:\n",
    "            break\n",
    "\n",
    "        # Process frame at 1-second intervals (assuming fps is not zero)\n",
    "        if fps > 0 and frame % int(fps) == 0:\n",
    "            try:\n",
    "                depth = model.infer_image(\n",
    "                    frame_image\n",
    "                )  # Assuming model is defined elsewhere\n",
    "                img_path = osp.join(RESULTS_FOLDER, f\"{video_name}_{frame}.jpeg\")\n",
    "                cv2.imwrite(img_path, depth)\n",
    "            except Exception as e:\n",
    "                print(f\"Error processing frame {frame} of video {video_name}: {e}\")\n",
    "\n",
    "        frame += 1\n",
    "\n",
    "    video_stream.release()\n",
    "\n",
    "print(\"Processing complete.\")"
   ]
  }
 ],
 "metadata": {
  "kernelspec": {
   "display_name": "Python 3 (ipykernel)",
   "language": "python",
   "name": "python3"
  },
  "language_info": {
   "codemirror_mode": {
    "name": "ipython",
    "version": 3
   },
   "file_extension": ".py",
   "mimetype": "text/x-python",
   "name": "python",
   "nbconvert_exporter": "python",
   "pygments_lexer": "ipython3",
   "version": "3.8.10"
  }
 },
 "nbformat": 4,
 "nbformat_minor": 5
}
