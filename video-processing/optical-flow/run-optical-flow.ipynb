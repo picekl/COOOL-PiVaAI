{
 "cells": [
  {
   "cell_type": "code",
   "execution_count": 3,
   "id": "2053903f-e19a-4f73-be5f-bb69940b15f7",
   "metadata": {},
   "outputs": [],
   "source": [
    "import torch\n",
    "from PIL import Image\n",
    "import pandas as pd\n",
    "import numpy as np\n",
    "from tqdm import tqdm\n",
    "import json\n",
    "import os\n",
    "import cv2\n",
    "\n",
    "\n",
    "def process(current_frame, previous_frame, motion_threshold=None):\n",
    "    \"\"\"\n",
    "    Computes the degree of motion between the current and previous frames.\n",
    "\n",
    "    Args:\n",
    "        current_frame (np.ndarray): Current frame in grayscale.\n",
    "        previous_frame (np.ndarray): Previous frame in grayscale.\n",
    "        motion_threshold (float): Threshold to filter out low-motion noise.\n",
    "\n",
    "    Returns:\n",
    "        float: A single value representing the degree of motion in the frame.\n",
    "    \"\"\"\n",
    "    if previous_frame is None:\n",
    "        return {'score': None}\n",
    "\n",
    "    # Calculate optical flow\n",
    "    flow = cv2.calcOpticalFlowFarneback(\n",
    "        prev=previous_frame,\n",
    "        next=current_frame,\n",
    "        flow=None,\n",
    "        pyr_scale=0.5,\n",
    "        levels=3,\n",
    "        winsize=15,\n",
    "        iterations=3,\n",
    "        poly_n=5,\n",
    "        poly_sigma=1.2,\n",
    "        flags=0\n",
    "    )\n",
    "\n",
    "    # Compute magnitude and angle of flow vectors\n",
    "    magnitude, _ = cv2.cartToPolar(flow[..., 0], flow[..., 1], angleInDegrees=True)\n",
    "\n",
    "    # Filter out small magnitudes (noise) using a threshold\n",
    "    if motion_threshold is not None:\n",
    "        significant_motion = magnitude[magnitude > motion_threshold]\n",
    "    else:\n",
    "        significant_motion = magnitude\n",
    "\n",
    "    # Calculate the mean magnitude of significant motion\n",
    "    motion_score = significant_motion.mean() if significant_motion.size > 0 else 0.0\n",
    "\n",
    "    return {'score': motion_score}"
   ]
  },
  {
   "cell_type": "code",
   "execution_count": null,
   "id": "94d12d76-e49c-4db9-bbde-8d9788c456d0",
   "metadata": {},
   "outputs": [],
   "source": []
  },
  {
   "cell_type": "code",
   "execution_count": 15,
   "id": "9cfe3a66-4696-4360-8f0c-3990a653b889",
   "metadata": {},
   "outputs": [
    {
     "name": "stderr",
     "output_type": "stream",
     "text": [
      "100%|██████████| 200/200 [1:13:19<00:00, 22.00s/it]\n"
     ]
    }
   ],
   "source": [
    "folder_path = \"/home/cermavo3/projects/kaggle/coool/COOOL-Benchmark\"\n",
    "target_fps = 5\n",
    "\n",
    "results = {}\n",
    "for filename in tqdm(os.listdir(folder_path)):\n",
    "    if filename.endswith(\".mp4\"):\n",
    "        video_path = os.path.join(folder_path, filename)\n",
    "        cap = cv2.VideoCapture(video_path)\n",
    "        original_fps = cap.get(cv2.CAP_PROP_FPS)\n",
    "        frame_skip = int(original_fps / target_fps)\n",
    "\n",
    "        # Initialize storage for this video\n",
    "        previous_frame = None\n",
    "        video_results = []\n",
    "        frame_count = 0\n",
    "        while cap.isOpened():\n",
    "            ret, frame = cap.read()\n",
    "            if not ret:\n",
    "                break\n",
    "            if frame_count % frame_skip == 0:\n",
    "                # Convert the current frame to grayscale\n",
    "                current_frame = cv2.cvtColor(frame, cv2.COLOR_BGR2GRAY)\n",
    "    \n",
    "                # Calculate optical flow between consecutive frames\n",
    "                result = process(current_frame, previous_frame)\n",
    "                result[\"frame\"] = frame_count\n",
    "                video_results.append(result)\n",
    "                # Update the previous frame\n",
    "                previous_frame = current_frame\n",
    "\n",
    "            frame_count += 1\n",
    "\n",
    "        cap.release()\n",
    "        results[filename] = video_results\n",
    "torch.save(results, f'results/optical_flow.pkl')"
   ]
  },
  {
   "cell_type": "code",
   "execution_count": null,
   "id": "e5352e52-0b20-4039-952c-0b8b29ce4256",
   "metadata": {},
   "outputs": [],
   "source": []
  },
  {
   "cell_type": "code",
   "execution_count": null,
   "id": "f0675ca4-91e2-4451-a687-26a414639b38",
   "metadata": {},
   "outputs": [],
   "source": []
  },
  {
   "cell_type": "code",
   "execution_count": null,
   "id": "03d487eb-e92e-45bf-8294-a4149781dd2c",
   "metadata": {},
   "outputs": [],
   "source": []
  }
 ],
 "metadata": {
  "kernelspec": {
   "display_name": "venv-llms",
   "language": "python",
   "name": "venv-llms"
  },
  "language_info": {
   "codemirror_mode": {
    "name": "ipython",
    "version": 3
   },
   "file_extension": ".py",
   "mimetype": "text/x-python",
   "name": "python",
   "nbconvert_exporter": "python",
   "pygments_lexer": "ipython3",
   "version": "3.11.5"
  }
 },
 "nbformat": 4,
 "nbformat_minor": 5
}
